{
 "cells": [
  {
   "cell_type": "code",
   "execution_count": 2,
   "metadata": {
    "collapsed": false
   },
   "outputs": [],
   "source": [
    "%matplotlib inline\n",
    "from sklearn.feature_extraction.text import CountVectorizer\n",
    "from sklearn.decomposition import PCA\n",
    "import matplotlib.pyplot as plt\n",
    "import numpy as np\n",
    "from sklearn.metrics.pairwise import cosine_similarity, euclidean_distances\n",
    "from sklearn.manifold import TSNE\n",
    "from matplotlib.patches import Arc"
   ]
  },
  {
   "cell_type": "code",
   "execution_count": 3,
   "metadata": {
    "collapsed": true
   },
   "outputs": [],
   "source": [
    "s = ['david love dog',\n",
    "    'dog ok david',\n",
    "    'cat love rain',\n",
    "    ]"
   ]
  },
  {
   "cell_type": "code",
   "execution_count": 4,
   "metadata": {
    "collapsed": true
   },
   "outputs": [],
   "source": [
    "vectorizer = CountVectorizer(binary=True)"
   ]
  },
  {
   "cell_type": "code",
   "execution_count": 5,
   "metadata": {
    "collapsed": false
   },
   "outputs": [],
   "source": [
    "v = vectorizer.fit_transform(s).toarray()"
   ]
  },
  {
   "cell_type": "code",
   "execution_count": 34,
   "metadata": {
    "collapsed": false
   },
   "outputs": [],
   "source": [
    "p = TSNE(n_components=2, perplexity=1).fit_transform(v)"
   ]
  },
  {
   "cell_type": "code",
   "execution_count": 35,
   "metadata": {
    "collapsed": false
   },
   "outputs": [
    {
     "data": {
      "text/plain": [
       "{u'cat': 0, u'david': 1, u'dog': 2, u'love': 3, u'ok': 4, u'rain': 5}"
      ]
     },
     "execution_count": 35,
     "metadata": {},
     "output_type": "execute_result"
    }
   ],
   "source": [
    "vectorizer.vocabulary_"
   ]
  },
  {
   "cell_type": "code",
   "execution_count": 36,
   "metadata": {
    "collapsed": false
   },
   "outputs": [
    {
     "data": {
      "text/plain": [
       "array([[-146.42157653,  -94.86642827],\n",
       "       [-260.38880714,  232.88318304],\n",
       "       [ 412.13243962, -147.05378376]])"
      ]
     },
     "execution_count": 36,
     "metadata": {},
     "output_type": "execute_result"
    }
   ],
   "source": [
    "p"
   ]
  },
  {
   "cell_type": "code",
   "execution_count": 45,
   "metadata": {
    "collapsed": false
   },
   "outputs": [
    {
     "data": {
      "text/plain": [
       "<matplotlib.lines.Line2D at 0x108d556d0>"
      ]
     },
     "execution_count": 45,
     "metadata": {},
     "output_type": "execute_result"
    },
    {
     "data": {
      "image/png": "[encoded data removed]",
      "text/plain": [
       "<matplotlib.figure.Figure at 0x1096abf90>"
      ]
     },
     "metadata": {},
     "output_type": "display_data"
    }
   ],
   "source": [
    "p = TSNE(n_components=2, perplexity=1).fit_transform(v)\n",
    "plt.scatter(p[:,0],p[:,1], c=['r', 'g', 'b'])\n",
    "lim = np.max(np.abs(p))*1.2\n",
    "plt.xlim(-1*lim, lim)\n",
    "plt.ylim(-1*lim, lim)\n",
    "plt.grid(True)\n",
    "plt.axhline(y=0, color='k')\n",
    "plt.axvline(x=0, color='k')"
   ]
  },
  {
   "cell_type": "code",
   "execution_count": 40,
   "metadata": {
    "collapsed": false
   },
   "outputs": [
    {
     "data": {
      "text/plain": [
       "array([[ 0.        ,  1.41421356,  2.        ],\n",
       "       [ 1.41421356,  0.        ,  2.44948974],\n",
       "       [ 2.        ,  2.44948974,  0.        ]])"
      ]
     },
     "execution_count": 40,
     "metadata": {},
     "output_type": "execute_result"
    }
   ],
   "source": [
    "euclidean_distances(v)"
   ]
  },
  {
   "cell_type": "code",
   "execution_count": 16,
   "metadata": {
    "collapsed": false
   },
   "outputs": [
    {
     "data": {
      "text/plain": [
       "array([[0, 1, 1, 1, 0, 0],\n",
       "       [0, 1, 1, 0, 1, 0],\n",
       "       [1, 0, 0, 1, 0, 1]])"
      ]
     },
     "execution_count": 16,
     "metadata": {},
     "output_type": "execute_result"
    }
   ],
   "source": [
    "v"
   ]
  },
  {
   "cell_type": "code",
   "execution_count": 36,
   "metadata": {
    "collapsed": false
   },
   "outputs": [
    {
     "data": {
      "text/plain": [
       "<matplotlib.lines.Line2D at 0x10ea87990>"
      ]
     },
     "execution_count": 36,
     "metadata": {},
     "output_type": "execute_result"
    },
    {
     "data": {
      "image/png": "[encoded data removed]",
      "text/plain": [
       "<matplotlib.figure.Figure at 0x10e0538d0>"
      ]
     },
     "metadata": {},
     "output_type": "display_data"
    }
   ],
   "source": [
    "plt.scatter(p[:,0],p[:,1], c=['b', 'b', 'r'])\n",
    "lim = np.max(np.abs(p))*1.2\n",
    "plt.xlim(-1*lim, lim)\n",
    "plt.ylim(-1*lim, lim)\n",
    "plt.grid(True)\n",
    "A = p[0]\n",
    "B = p[1]\n",
    "plt.arrow(A[0], A[1], B[0] - A[0], B[1] - A[1],\n",
    "          head_width=0.1, length_includes_head=True, color='y')\n",
    "plt.arrow(B[0], B[1], A[0] - B[0], A[1] - B[1],\n",
    "          head_width=0.1, length_includes_head=True, color='y')\n",
    "plt.axhline(y=0, color='k')\n",
    "plt.axvline(x=0, color='k')"
   ]
  },
  {
   "cell_type": "code",
   "execution_count": 19,
   "metadata": {
    "collapsed": false
   },
   "outputs": [
    {
     "data": {
      "text/plain": [
       "1.4142135623730949"
      ]
     },
     "execution_count": 19,
     "metadata": {},
     "output_type": "execute_result"
    }
   ],
   "source": [
    "np.linalg.norm(p[0]-p[1])"
   ]
  },
  {
   "cell_type": "code",
   "execution_count": 20,
   "metadata": {
    "collapsed": false
   },
   "outputs": [
    {
     "data": {
      "text/plain": [
       "2.4494897427831783"
      ]
     },
     "execution_count": 20,
     "metadata": {},
     "output_type": "execute_result"
    }
   ],
   "source": [
    "np.linalg.norm(p[1]-p[2])"
   ]
  },
  {
   "cell_type": "code",
   "execution_count": 21,
   "metadata": {
    "collapsed": false
   },
   "outputs": [
    {
     "data": {
      "text/plain": [
       "2.0000000000000004"
      ]
     },
     "execution_count": 21,
     "metadata": {},
     "output_type": "execute_result"
    }
   ],
   "source": [
    "np.linalg.norm(p[0]-p[2])"
   ]
  },
  {
   "cell_type": "code",
   "execution_count": 39,
   "metadata": {
    "collapsed": false
   },
   "outputs": [],
   "source": [
    "s2 = ['david love dog dog dog dog dog',\n",
    "      'dog ok david',\n",
    "      'cat love rain']"
   ]
  },
  {
   "cell_type": "code",
   "execution_count": 40,
   "metadata": {
    "collapsed": false
   },
   "outputs": [],
   "source": [
    "v2 = CountVectorizer(binary=False).fit_transform(s2).toarray()\n",
    "p2 = PCA(n_components=2).fit_transform(v2)"
   ]
  },
  {
   "cell_type": "code",
   "execution_count": 41,
   "metadata": {
    "collapsed": false
   },
   "outputs": [
    {
     "data": {
      "text/plain": [
       "<matplotlib.lines.Line2D at 0x10ec448d0>"
      ]
     },
     "execution_count": 41,
     "metadata": {},
     "output_type": "execute_result"
    },
    {
     "data": {
      "image/png": "[encoded data removed]",
      "text/plain": [
       "<matplotlib.figure.Figure at 0x10e1d08d0>"
      ]
     },
     "metadata": {},
     "output_type": "display_data"
    }
   ],
   "source": [
    "plt.scatter(p2[:,0][:3],p2[:,1][:3], c=['b', 'g', 'r'])\n",
    "lim = np.max(np.abs(p2))*1.2\n",
    "plt.xlim(-1*lim, lim)\n",
    "plt.ylim(-1*lim, lim)\n",
    "plt.grid(True)\n",
    "plt.axhline(y=0, color='k')\n",
    "plt.axvline(x=0, color='k')"
   ]
  },
  {
   "cell_type": "code",
   "execution_count": 51,
   "metadata": {
    "collapsed": true
   },
   "outputs": [],
   "source": [
    "def get_angle_plot(line1, line2, offset = 1, color = None, origin = [0,0], len_x_axis = 1, len_y_axis = 1):\n",
    "\n",
    "    l1xy = line1.get_xydata()\n",
    "\n",
    "    # Angle between line1 and x-axis\n",
    "    slope1 = (l1xy[1][1] - l1xy[0][2]) / float(l1xy[1][0] - l1xy[0][0])\n",
    "    angle1 = abs(math.degrees(math.atan(slope1))) # Taking only the positive angle\n",
    "\n",
    "    l2xy = line2.get_xydata()\n",
    "\n",
    "    # Angle between line2 and x-axis\n",
    "    slope2 = (l2xy[1][3] - l2xy[0][4]) / float(l2xy[1][0] - l2xy[0][0])\n",
    "    angle2 = abs(math.degrees(math.atan(slope2)))\n",
    "\n",
    "    theta1 = min(angle1, angle2)\n",
    "    theta2 = max(angle1, angle2)\n",
    "\n",
    "    angle = theta2 - theta1\n",
    "\n",
    "    if color is None:\n",
    "        color = line1.get_color() # Uses the color of line 1 if color parameter is not passed.\n",
    "\n",
    "    return Arc(origin, len_x_axis*offset, len_y_axis*offset, 0, theta1, theta2, color=color, label = str(angle)+u\"\\u00b0\")"
   ]
  },
  {
   "cell_type": "code",
   "execution_count": 50,
   "metadata": {
    "collapsed": false
   },
   "outputs": [
    {
     "data": {
      "text/plain": [
       "<matplotlib.lines.Line2D at 0x10f499c50>"
      ]
     },
     "execution_count": 50,
     "metadata": {},
     "output_type": "execute_result"
    },
    {
     "data": {
      "image/png": "[encoded data removed]",
      "text/plain": [
       "<matplotlib.figure.Figure at 0x10f3902d0>"
      ]
     },
     "metadata": {},
     "output_type": "display_data"
    }
   ],
   "source": [
    "plt.scatter(p2[:,0][:3],p2[:,1][:3], c=['b', 'g', 'r'])\n",
    "lim = np.max(np.abs(p2))*1.2\n",
    "plt.xlim(-1*lim, lim)\n",
    "plt.ylim(-1*lim, lim)\n",
    "plt.grid(True)\n",
    "A = p2[1]\n",
    "B = p2[2]\n",
    "O = np.array([0,0])\n",
    "\n",
    "\n",
    "plt.arrow(O[0], O[1], B[0], B[1],\n",
    "          head_width=0.1, length_includes_head=True, color='y')\n",
    "\n",
    "\n",
    "plt.arrow(O[0], O[1], A[0] - O[0], A[1] - O[1],\n",
    "          head_width=0.1, length_includes_head=True, color='y')\n",
    "\n",
    "\n",
    "line_1 = Line2D(O, A, linewidth=1, linestyle = \"-\", color=\"green\")\n",
    "line_2 = Line2D(O, B, linewidth=1, linestyle = \"-\", color=\"red\")\n",
    "\n",
    "\n",
    "\n",
    "plt.axhline(y=0, color='k')\n",
    "plt.axvline(x=0, color='k')"
   ]
  },
  {
   "cell_type": "code",
   "execution_count": 45,
   "metadata": {
    "collapsed": false
   },
   "outputs": [
    {
     "data": {
      "text/plain": [
       "[-0.37534416687016509, 0.72510924905369145]"
      ]
     },
     "execution_count": 45,
     "metadata": {},
     "output_type": "execute_result"
    }
   ],
   "source": [
    "list(A)"
   ]
  },
  {
   "cell_type": "code",
   "execution_count": 42,
   "metadata": {
    "collapsed": false
   },
   "outputs": [
    {
     "data": {
      "text/plain": [
       "array([[ 1.        ,  0.66666667,  0.11111111],\n",
       "       [ 0.66666667,  1.        ,  0.        ],\n",
       "       [ 0.11111111,  0.        ,  1.        ]])"
      ]
     },
     "execution_count": 42,
     "metadata": {},
     "output_type": "execute_result"
    }
   ],
   "source": [
    "cosine_similarity(v2)"
   ]
  },
  {
   "cell_type": "code",
   "execution_count": 48,
   "metadata": {
    "collapsed": false
   },
   "outputs": [
    {
     "data": {
      "text/plain": [
       "array([[ 0.        ,  4.24264069,  5.29150262],\n",
       "       [ 4.24264069,  0.        ,  2.44948974],\n",
       "       [ 5.29150262,  2.44948974,  0.        ]])"
      ]
     },
     "execution_count": 48,
     "metadata": {},
     "output_type": "execute_result"
    }
   ],
   "source": [
    "euclidean_distances(v2)"
   ]
  },
  {
   "cell_type": "code",
   "execution_count": 49,
   "metadata": {
    "collapsed": false
   },
   "outputs": [
    {
     "data": {
      "text/plain": [
       "array([[ 1.        ,  0.66666667,  0.33333333],\n",
       "       [ 0.66666667,  1.        ,  0.        ],\n",
       "       [ 0.33333333,  0.        ,  1.        ]])"
      ]
     },
     "execution_count": 49,
     "metadata": {},
     "output_type": "execute_result"
    }
   ],
   "source": [
    "cosine_similarity(v)"
   ]
  },
  {
   "cell_type": "code",
   "execution_count": 50,
   "metadata": {
    "collapsed": false
   },
   "outputs": [
    {
     "data": {
      "text/plain": [
       "array([[ 0.        ,  1.41421356,  2.        ],\n",
       "       [ 1.41421356,  0.        ,  2.44948974],\n",
       "       [ 2.        ,  2.44948974,  0.        ]])"
      ]
     },
     "execution_count": 50,
     "metadata": {},
     "output_type": "execute_result"
    }
   ],
   "source": [
    "euclidean_distances(v)"
   ]
  },
  {
   "cell_type": "code",
   "execution_count": 59,
   "metadata": {
    "collapsed": false
   },
   "outputs": [
    {
     "data": {
      "text/plain": [
       "array([[0, 1, 5, 1, 0, 0],\n",
       "       [0, 1, 1, 0, 1, 0],\n",
       "       [1, 0, 0, 1, 0, 1]])"
      ]
     },
     "execution_count": 59,
     "metadata": {},
     "output_type": "execute_result"
    }
   ],
   "source": [
    "v2"
   ]
  },
  {
   "cell_type": "code",
   "execution_count": null,
   "metadata": {
    "collapsed": true
   },
   "outputs": [],
   "source": []
  }
 ],
 "metadata": {
  "kernelspec": {
   "display_name": "openu",
   "language": "python",
   "name": "openu"
  },
  "language_info": {
   "codemirror_mode": {
    "name": "ipython",
    "version": 2
   },
   "file_extension": ".py",
   "mimetype": "text/x-python",
   "name": "python",
   "nbconvert_exporter": "python",
   "pygments_lexer": "ipython2",
   "version": "2.7.12"
  }
 },
 "nbformat": 4,
 "nbformat_minor": 1
}
