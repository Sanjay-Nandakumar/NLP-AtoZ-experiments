{
 "cells": [
  {
   "cell_type": "markdown",
   "metadata": {},
   "source": [
    "# Imports"
   ]
  },
  {
   "cell_type": "code",
   "execution_count": 4,
   "metadata": {},
   "outputs": [],
   "source": [
    "%matplotlib inline\n",
    "import matplotlib.pyplot as plt\n",
    "import keras\n",
    "from keras.datasets import mnist\n",
    "from keras.models import Sequential\n",
    "from keras.layers import Dense, Dropout\n",
    "from keras.optimizers import RMSprop\n",
    "from keras.layers.advanced_activations import LeakyReLU"
   ]
  },
  {
   "cell_type": "markdown",
   "metadata": {
    "collapsed": true
   },
   "source": [
    "# Load the data\n"
   ]
  },
  {
   "cell_type": "code",
   "execution_count": 5,
   "metadata": {},
   "outputs": [
    {
     "name": "stdout",
     "output_type": "stream",
     "text": [
      "Train size: 60000\n",
      "Test size: 10000\n"
     ]
    }
   ],
   "source": [
    "(x_train, y_train), (x_test, y_test) = mnist.load_data()\n",
    "\n",
    "num_classes = 10\n",
    "x_train = x_train.reshape(60000, 784)\n",
    "x_test = x_test.reshape(10000, 784)\n",
    "x_train = x_train.astype('float32')\n",
    "x_test = x_test.astype('float32')\n",
    "x_train /= 255\n",
    "x_test /= 255\n",
    "y_train = keras.utils.to_categorical(y_train, num_classes)\n",
    "y_test = keras.utils.to_categorical(y_test, num_classes)\n",
    "\n",
    "\n",
    "print 'Train size:', x_train.shape[0]\n",
    "print 'Test size:', x_test.shape[0]"
   ]
  },
  {
   "cell_type": "markdown",
   "metadata": {
    "collapsed": true
   },
   "source": [
    "# Build the network "
   ]
  },
  {
   "cell_type": "code",
   "execution_count": 6,
   "metadata": {},
   "outputs": [
    {
     "name": "stdout",
     "output_type": "stream",
     "text": [
      "dense_1 (None, 784) ==> (None, 512)\n",
      "dense_2 (None, 512) ==> (None, 10)\n",
      "\n",
      "_________________________________________________________________\n",
      "Layer (type)                 Output Shape              Param #   \n",
      "=================================================================\n",
      "dense_1 (Dense)              (None, 512)               401920    \n",
      "_________________________________________________________________\n",
      "dense_2 (Dense)              (None, 10)                5130      \n",
      "=================================================================\n",
      "Total params: 407,050\n",
      "Trainable params: 407,050\n",
      "Non-trainable params: 0\n",
      "_________________________________________________________________\n",
      "None\n"
     ]
    }
   ],
   "source": [
    "model = Sequential()\n",
    "model.add(Dense(512, activation='relu', input_shape=(784,)))\n",
    "model.add(Dense(num_classes, activation='softmax'))\n",
    "\n",
    "for l in model.layers:\n",
    "    print l.name, l.input_shape,'==>',l.output_shape\n",
    "print\n",
    "print model.summary()"
   ]
  },
  {
   "cell_type": "markdown",
   "metadata": {},
   "source": [
    "# Train the network"
   ]
  },
  {
   "cell_type": "code",
   "execution_count": 7,
   "metadata": {},
   "outputs": [
    {
     "name": "stdout",
     "output_type": "stream",
     "text": [
      "Train on 60000 samples, validate on 10000 samples\n",
      "Epoch 1/5\n",
      "60000/60000 [==============================] - 3s - loss: 0.2606 - acc: 0.9243 - val_loss: 0.1304 - val_acc: 0.9604\n",
      "Epoch 2/5\n",
      "60000/60000 [==============================] - 3s - loss: 0.1039 - acc: 0.9693 - val_loss: 0.0967 - val_acc: 0.9695\n",
      "Epoch 3/5\n",
      "60000/60000 [==============================] - 3s - loss: 0.0683 - acc: 0.9792 - val_loss: 0.0752 - val_acc: 0.9758\n",
      "Epoch 4/5\n",
      "60000/60000 [==============================] - 3s - loss: 0.0497 - acc: 0.9856 - val_loss: 0.0723 - val_acc: 0.9782\n",
      "Epoch 5/5\n",
      "60000/60000 [==============================] - 3s - loss: 0.0373 - acc: 0.9885 - val_loss: 0.0625 - val_acc: 0.9809\n",
      "\n",
      "Test loss: 0.062\n",
      "Test accuracy: 0.981\n"
     ]
    },
    {
     "data": {
      "text/plain": [
       "<matplotlib.legend.Legend at 0x11ba84a90>"
      ]
     },
     "execution_count": 7,
     "metadata": {},
     "output_type": "execute_result"
    },
    {
     "data": {
      "image/png": "[encoded data removed]",
      "text/plain": [
       "<matplotlib.figure.Figure at 0x12d69ef50>"
      ]
     },
     "metadata": {},
     "output_type": "display_data"
    }
   ],
   "source": [
    "batch_size = 128\n",
    "epochs = 5\n",
    "\n",
    "model.compile(loss='categorical_crossentropy',\n",
    "              optimizer=RMSprop(),\n",
    "              metrics=['accuracy'])\n",
    "    \n",
    "history = model.fit(x_train, y_train,\n",
    "                    batch_size=batch_size,\n",
    "                    epochs=epochs,\n",
    "                    verbose=1,\n",
    "                    validation_data=(x_test, y_test))\n",
    "\n",
    "score = model.evaluate(x_test, y_test, verbose=100)\n",
    "\n",
    "print\n",
    "print 'Test loss:', round(score[0], 3)\n",
    "print 'Test accuracy:', round(score[1], 3)\n",
    "plt.plot(history.history['loss'])\n",
    "plt.plot(history.history['val_loss'])\n",
    "plt.title('model loss')\n",
    "plt.ylabel('loss')\n",
    "plt.xlabel('epoch')\n",
    "plt.legend(['train', 'test'], loc='upper left')"
   ]
  },
  {
   "cell_type": "markdown",
   "metadata": {},
   "source": [
    "# Build networks using all activations"
   ]
  },
  {
   "cell_type": "code",
   "execution_count": 8,
   "metadata": {},
   "outputs": [
    {
     "name": "stdout",
     "output_type": "stream",
     "text": [
      "Train on 60000 samples, validate on 10000 samples\n",
      "Epoch 1/20\n",
      "60000/60000 [==============================] - 3s - loss: 0.3870 - acc: 0.8884 - val_loss: 0.3389 - val_acc: 0.9049\n",
      "Epoch 2/20\n",
      "60000/60000 [==============================] - 3s - loss: 0.3099 - acc: 0.9128 - val_loss: 0.2919 - val_acc: 0.9164\n",
      "Epoch 3/20\n",
      "60000/60000 [==============================] - 3s - loss: 0.2969 - acc: 0.9176 - val_loss: 0.3060 - val_acc: 0.9178\n",
      "Epoch 4/20\n",
      "60000/60000 [==============================] - 3s - loss: 0.2888 - acc: 0.9192 - val_loss: 0.3191 - val_acc: 0.9096\n",
      "Epoch 5/20\n",
      "60000/60000 [==============================] - 3s - loss: 0.2824 - acc: 0.9221 - val_loss: 0.3028 - val_acc: 0.9171\n",
      "Epoch 6/20\n",
      "60000/60000 [==============================] - 3s - loss: 0.2782 - acc: 0.9228 - val_loss: 0.2911 - val_acc: 0.9227\n",
      "Epoch 7/20\n",
      "60000/60000 [==============================] - 3s - loss: 0.2756 - acc: 0.9234 - val_loss: 0.2802 - val_acc: 0.9229\n",
      "Epoch 8/20\n",
      "60000/60000 [==============================] - 3s - loss: 0.2726 - acc: 0.9238 - val_loss: 0.2837 - val_acc: 0.9240\n",
      "Epoch 9/20\n",
      "60000/60000 [==============================] - 3s - loss: 0.2701 - acc: 0.9241 - val_loss: 0.2899 - val_acc: 0.9231\n",
      "Epoch 10/20\n",
      "60000/60000 [==============================] - 3s - loss: 0.2687 - acc: 0.9252 - val_loss: 0.2841 - val_acc: 0.9234\n",
      "Epoch 11/20\n",
      "60000/60000 [==============================] - 3s - loss: 0.2664 - acc: 0.9257 - val_loss: 0.2834 - val_acc: 0.9242\n",
      "Epoch 12/20\n",
      "60000/60000 [==============================] - 3s - loss: 0.2666 - acc: 0.9265 - val_loss: 0.2867 - val_acc: 0.9212\n",
      "Epoch 13/20\n",
      "60000/60000 [==============================] - 3s - loss: 0.2641 - acc: 0.9271 - val_loss: 0.3022 - val_acc: 0.9160\n",
      "Epoch 14/20\n",
      "60000/60000 [==============================] - 3s - loss: 0.2618 - acc: 0.9273 - val_loss: 0.3103 - val_acc: 0.9177\n",
      "Epoch 15/20\n",
      "60000/60000 [==============================] - 3s - loss: 0.2615 - acc: 0.9274 - val_loss: 0.2843 - val_acc: 0.9261\n",
      "Epoch 16/20\n",
      "60000/60000 [==============================] - 3s - loss: 0.2606 - acc: 0.9276 - val_loss: 0.2914 - val_acc: 0.9228\n",
      "Epoch 17/20\n",
      "60000/60000 [==============================] - 3s - loss: 0.2596 - acc: 0.9285 - val_loss: 0.2813 - val_acc: 0.9251\n",
      "Epoch 18/20\n",
      "60000/60000 [==============================] - 3s - loss: 0.2583 - acc: 0.9290 - val_loss: 0.2990 - val_acc: 0.9174\n",
      "Epoch 19/20\n",
      "60000/60000 [==============================] - 3s - loss: 0.2586 - acc: 0.9286 - val_loss: 0.2943 - val_acc: 0.9187\n",
      "Epoch 20/20\n",
      "60000/60000 [==============================] - 2s - loss: 0.2571 - acc: 0.9286 - val_loss: 0.2854 - val_acc: 0.9245\n",
      "Train on 60000 samples, validate on 10000 samples\n",
      "Epoch 1/20\n",
      "60000/60000 [==============================] - 3s - loss: 0.4253 - acc: 0.8849 - val_loss: 0.2585 - val_acc: 0.9245\n",
      "Epoch 2/20\n",
      "60000/60000 [==============================] - 3s - loss: 0.2342 - acc: 0.9314 - val_loss: 0.2117 - val_acc: 0.9389\n",
      "Epoch 3/20\n",
      "60000/60000 [==============================] - 3s - loss: 0.1774 - acc: 0.9474 - val_loss: 0.1583 - val_acc: 0.9535\n",
      "Epoch 4/20\n",
      "60000/60000 [==============================] - 3s - loss: 0.1392 - acc: 0.9595 - val_loss: 0.1268 - val_acc: 0.9630\n",
      "Epoch 5/20\n",
      "60000/60000 [==============================] - 3s - loss: 0.1123 - acc: 0.9679 - val_loss: 0.1129 - val_acc: 0.9666\n",
      "Epoch 6/20\n",
      "60000/60000 [==============================] - 3s - loss: 0.0933 - acc: 0.9729 - val_loss: 0.1032 - val_acc: 0.9697\n",
      "Epoch 7/20\n",
      "60000/60000 [==============================] - 3s - loss: 0.0788 - acc: 0.9769 - val_loss: 0.0938 - val_acc: 0.9707\n",
      "Epoch 8/20\n",
      "60000/60000 [==============================] - 3s - loss: 0.0676 - acc: 0.9800 - val_loss: 0.0893 - val_acc: 0.9734\n",
      "Epoch 9/20\n",
      "60000/60000 [==============================] - 3s - loss: 0.0579 - acc: 0.9832 - val_loss: 0.0779 - val_acc: 0.9763\n",
      "Epoch 10/20\n",
      "60000/60000 [==============================] - 3s - loss: 0.0507 - acc: 0.9853 - val_loss: 0.0751 - val_acc: 0.9776\n",
      "Epoch 11/20\n",
      "60000/60000 [==============================] - 3s - loss: 0.0442 - acc: 0.9874 - val_loss: 0.0697 - val_acc: 0.9793\n",
      "Epoch 12/20\n",
      "60000/60000 [==============================] - 3s - loss: 0.0386 - acc: 0.9891 - val_loss: 0.0716 - val_acc: 0.9788\n",
      "Epoch 13/20\n",
      "60000/60000 [==============================] - 3s - loss: 0.0336 - acc: 0.9907 - val_loss: 0.0689 - val_acc: 0.9797\n",
      "Epoch 14/20\n",
      "60000/60000 [==============================] - 3s - loss: 0.0295 - acc: 0.9918 - val_loss: 0.0676 - val_acc: 0.9796\n",
      "Epoch 15/20\n",
      "60000/60000 [==============================] - 3s - loss: 0.0256 - acc: 0.9932 - val_loss: 0.0671 - val_acc: 0.9793\n",
      "Epoch 16/20\n",
      "60000/60000 [==============================] - 3s - loss: 0.0225 - acc: 0.9941 - val_loss: 0.0633 - val_acc: 0.9815\n",
      "Epoch 17/20\n",
      "60000/60000 [==============================] - 3s - loss: 0.0194 - acc: 0.9953 - val_loss: 0.0655 - val_acc: 0.9811\n",
      "Epoch 18/20\n",
      "60000/60000 [==============================] - 3s - loss: 0.0172 - acc: 0.9957 - val_loss: 0.0634 - val_acc: 0.9809\n",
      "Epoch 19/20\n",
      "60000/60000 [==============================] - 3s - loss: 0.0149 - acc: 0.9964 - val_loss: 0.0652 - val_acc: 0.9818\n",
      "Epoch 20/20\n",
      "60000/60000 [==============================] - 3s - loss: 0.0129 - acc: 0.9974 - val_loss: 0.0626 - val_acc: 0.9826\n",
      "Train on 60000 samples, validate on 10000 samples\n",
      "Epoch 1/20\n",
      "60000/60000 [==============================] - 3s - loss: 0.3327 - acc: 0.9018 - val_loss: 0.2167 - val_acc: 0.9359\n",
      "Epoch 2/20\n",
      "60000/60000 [==============================] - 3s - loss: 0.1752 - acc: 0.9492 - val_loss: 0.1289 - val_acc: 0.9637\n",
      "Epoch 3/20\n",
      "60000/60000 [==============================] - 3s - loss: 0.1159 - acc: 0.9663 - val_loss: 0.1141 - val_acc: 0.9671\n",
      "Epoch 4/20\n",
      "60000/60000 [==============================] - 3s - loss: 0.0849 - acc: 0.9753 - val_loss: 0.0899 - val_acc: 0.9732\n",
      "Epoch 5/20\n",
      "60000/60000 [==============================] - 3s - loss: 0.0649 - acc: 0.9803 - val_loss: 0.0844 - val_acc: 0.9720\n",
      "Epoch 6/20\n",
      "60000/60000 [==============================] - 3s - loss: 0.0508 - acc: 0.9848 - val_loss: 0.0712 - val_acc: 0.9779\n",
      "Epoch 7/20\n",
      "60000/60000 [==============================] - 3s - loss: 0.0400 - acc: 0.9884 - val_loss: 0.0721 - val_acc: 0.9782\n",
      "Epoch 8/20\n",
      "60000/60000 [==============================] - 3s - loss: 0.0323 - acc: 0.9908 - val_loss: 0.0658 - val_acc: 0.9806\n",
      "Epoch 9/20\n",
      "60000/60000 [==============================] - 3s - loss: 0.0259 - acc: 0.9925 - val_loss: 0.0655 - val_acc: 0.9808\n",
      "Epoch 10/20\n",
      "60000/60000 [==============================] - 3s - loss: 0.0204 - acc: 0.9943 - val_loss: 0.0662 - val_acc: 0.9794\n",
      "Epoch 11/20\n",
      "60000/60000 [==============================] - 3s - loss: 0.0165 - acc: 0.9958 - val_loss: 0.0686 - val_acc: 0.9810\n",
      "Epoch 12/20\n",
      "60000/60000 [==============================] - 3s - loss: 0.0128 - acc: 0.9967 - val_loss: 0.0617 - val_acc: 0.9820\n",
      "Epoch 13/20\n",
      "60000/60000 [==============================] - 3s - loss: 0.0103 - acc: 0.9975 - val_loss: 0.0697 - val_acc: 0.9790\n",
      "Epoch 14/20\n",
      "60000/60000 [==============================] - 3s - loss: 0.0078 - acc: 0.9982 - val_loss: 0.0674 - val_acc: 0.9824\n",
      "Epoch 15/20\n",
      "60000/60000 [==============================] - 3s - loss: 0.0063 - acc: 0.9986 - val_loss: 0.0665 - val_acc: 0.9817\n",
      "Epoch 16/20\n",
      "60000/60000 [==============================] - 3s - loss: 0.0049 - acc: 0.9990 - val_loss: 0.0656 - val_acc: 0.9821\n",
      "Epoch 17/20\n",
      "60000/60000 [==============================] - 3s - loss: 0.0041 - acc: 0.9992 - val_loss: 0.0701 - val_acc: 0.9821\n",
      "Epoch 18/20\n",
      "60000/60000 [==============================] - 3s - loss: 0.0031 - acc: 0.9993 - val_loss: 0.0700 - val_acc: 0.9825\n",
      "Epoch 19/20\n",
      "60000/60000 [==============================] - 3s - loss: 0.0026 - acc: 0.9996 - val_loss: 0.0701 - val_acc: 0.9825\n",
      "Epoch 20/20\n",
      "60000/60000 [==============================] - 3s - loss: 0.0022 - acc: 0.9996 - val_loss: 0.0761 - val_acc: 0.9819\n",
      "Train on 60000 samples, validate on 10000 samples\n",
      "Epoch 1/20\n",
      "60000/60000 [==============================] - 3s - loss: 0.2598 - acc: 0.9252 - val_loss: 0.1312 - val_acc: 0.9591\n",
      "Epoch 2/20\n",
      "60000/60000 [==============================] - 3s - loss: 0.1043 - acc: 0.9694 - val_loss: 0.0941 - val_acc: 0.9704\n",
      "Epoch 3/20\n"
     ]
    },
    {
     "name": "stdout",
     "output_type": "stream",
     "text": [
      "60000/60000 [==============================] - 3s - loss: 0.0687 - acc: 0.9792 - val_loss: 0.0891 - val_acc: 0.9737\n",
      "Epoch 4/20\n",
      "60000/60000 [==============================] - 3s - loss: 0.0493 - acc: 0.9848 - val_loss: 0.0680 - val_acc: 0.9792\n",
      "Epoch 5/20\n",
      "60000/60000 [==============================] - 3s - loss: 0.0372 - acc: 0.9886 - val_loss: 0.0744 - val_acc: 0.9789\n",
      "Epoch 6/20\n",
      "60000/60000 [==============================] - 3s - loss: 0.0282 - acc: 0.9916 - val_loss: 0.0808 - val_acc: 0.9764\n",
      "Epoch 7/20\n",
      "60000/60000 [==============================] - 3s - loss: 0.0221 - acc: 0.9931 - val_loss: 0.0659 - val_acc: 0.9821\n",
      "Epoch 8/20\n",
      "60000/60000 [==============================] - 3s - loss: 0.0174 - acc: 0.9948 - val_loss: 0.0690 - val_acc: 0.9819\n",
      "Epoch 9/20\n",
      "60000/60000 [==============================] - 3s - loss: 0.0130 - acc: 0.9961 - val_loss: 0.0709 - val_acc: 0.9825\n",
      "Epoch 10/20\n",
      "60000/60000 [==============================] - 3s - loss: 0.0103 - acc: 0.9972 - val_loss: 0.0712 - val_acc: 0.9825\n",
      "Epoch 11/20\n",
      "60000/60000 [==============================] - 3s - loss: 0.0079 - acc: 0.9978 - val_loss: 0.0753 - val_acc: 0.9813\n",
      "Epoch 12/20\n",
      "60000/60000 [==============================] - 3s - loss: 0.0059 - acc: 0.9986 - val_loss: 0.0788 - val_acc: 0.9819\n",
      "Epoch 13/20\n",
      "60000/60000 [==============================] - 3s - loss: 0.0048 - acc: 0.9987 - val_loss: 0.0853 - val_acc: 0.9827\n",
      "Epoch 14/20\n",
      "60000/60000 [==============================] - 3s - loss: 0.0039 - acc: 0.9989 - val_loss: 0.0872 - val_acc: 0.9818\n",
      "Epoch 15/20\n",
      "60000/60000 [==============================] - 3s - loss: 0.0031 - acc: 0.9992 - val_loss: 0.0838 - val_acc: 0.9838\n",
      "Epoch 16/20\n",
      "60000/60000 [==============================] - 3s - loss: 0.0025 - acc: 0.9994 - val_loss: 0.0890 - val_acc: 0.9836\n",
      "Epoch 17/20\n",
      "60000/60000 [==============================] - 3s - loss: 0.0020 - acc: 0.9996 - val_loss: 0.0872 - val_acc: 0.9845\n",
      "Epoch 18/20\n",
      "60000/60000 [==============================] - 3s - loss: 0.0017 - acc: 0.9996 - val_loss: 0.0887 - val_acc: 0.9827\n",
      "Epoch 19/20\n",
      "60000/60000 [==============================] - 3s - loss: 0.0014 - acc: 0.9996 - val_loss: 0.0956 - val_acc: 0.9830\n",
      "Epoch 20/20\n",
      "60000/60000 [==============================] - 3s - loss: 0.0013 - acc: 0.9997 - val_loss: 0.0971 - val_acc: 0.9833\n"
     ]
    },
    {
     "data": {
      "text/plain": [
       "<matplotlib.legend.Legend at 0x11ba9de10>"
      ]
     },
     "execution_count": 8,
     "metadata": {},
     "output_type": "execute_result"
    },
    {
     "data": {
      "image/png": "[encoded data removed]",
      "text/plain": [
       "<matplotlib.figure.Figure at 0x11bb3b750>"
      ]
     },
     "metadata": {},
     "output_type": "display_data"
    }
   ],
   "source": [
    "epochs = 20\n",
    "\n",
    "for activation in [None, 'sigmoid', 'tanh', 'relu']:\n",
    "    model = Sequential()\n",
    "    model.add(Dense(512, activation=activation, input_shape=(784,)))\n",
    "    model.add(Dense(num_classes, activation='softmax'))\n",
    "    model.compile(loss='categorical_crossentropy',\n",
    "              optimizer=RMSprop(),\n",
    "              metrics=['accuracy'])\n",
    "    history = model.fit(x_train, y_train,\n",
    "                    batch_size=batch_size,\n",
    "                    epochs=epochs,\n",
    "                    verbose=1,\n",
    "                    validation_data=(x_test, y_test))\n",
    "    \n",
    "    plt.plot(history.history['val_acc'])\n",
    "    \n",
    "plt.title('model loss')\n",
    "plt.ylabel('loss')\n",
    "plt.xlabel('epoch')\n",
    "plt.legend(['None', 'sigmoid', 'tanh', 'relu'], loc='upper left')"
   ]
  },
  {
   "cell_type": "code",
   "execution_count": null,
   "metadata": {
    "collapsed": true
   },
   "outputs": [],
   "source": []
  }
 ],
 "metadata": {
  "kernelspec": {
   "display_name": "Python (hiredscore)",
   "language": "python",
   "name": "hiredscore"
  },
  "language_info": {
   "codemirror_mode": {
    "name": "ipython",
    "version": 2
   },
   "file_extension": ".py",
   "mimetype": "text/x-python",
   "name": "python",
   "nbconvert_exporter": "python",
   "pygments_lexer": "ipython2",
   "version": "2.7.12"
  }
 },
 "nbformat": 4,
 "nbformat_minor": 2
}
