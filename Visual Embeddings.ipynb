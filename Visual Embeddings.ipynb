{
 "cells": [
  {
   "cell_type": "code",
   "execution_count": 25,
   "metadata": {},
   "outputs": [],
   "source": [
    "%matplotlib inline\n",
    "import matplotlib.pyplot as plt\n",
    "import nltk\n",
    "from nltk.corpus import wordnet as wn\n",
    "from gensim.models import KeyedVectors\n",
    "from gensim.models import KeyedVectors\n",
    "import scipy\n",
    "import cv2\n",
    "from keras.applications.resnet50 import ResNet50\n",
    "from google_images_download import google_images_download\n",
    "from sklearn.manifold import TSNE"
   ]
  },
  {
   "cell_type": "markdown",
   "metadata": {},
   "source": [
    "# Get list of nouns"
   ]
  },
  {
   "cell_type": "code",
   "execution_count": 9,
   "metadata": {},
   "outputs": [
    {
     "name": "stdout",
     "output_type": "stream",
     "text": [
      "Numer of nouns: 8\n"
     ]
    }
   ],
   "source": [
    "nouns = set()\n",
    "for synset in list(wn.all_synsets('n'))[:10]:\n",
    "\n",
    "    n = synset.name().split('.')[0]\n",
    "\n",
    "    if len(n) > 2 and n.isalpha():\n",
    "        nouns.add(n)\n",
    "        \n",
    "print 'Numer of nouns:', len(nouns)"
   ]
  },
  {
   "cell_type": "markdown",
   "metadata": {},
   "source": [
    "# Create Word Vectors"
   ]
  },
  {
   "cell_type": "code",
   "execution_count": 15,
   "metadata": {},
   "outputs": [
    {
     "name": "stdout",
     "output_type": "stream",
     "text": [
      "Completed Image ====> 1. oops-concept-abstraction-793x397.jpg\n",
      "\n",
      "Errors: 0\n",
      "\n",
      "Completed Image ====> 1. screen_shot_2016-01-18_at_12.25.34_pm_109860.jpg\n",
      "\n",
      "Errors: 0\n",
      "\n",
      "Completed Image ====> 1. 1*0ttfuc9a8rmcqxcbrnemng.png\n",
      "\n",
      "Errors: 0\n",
      "\n",
      "Completed Image ====> 1. mv5byjizmzc4mgitytnkzi00zmyyltlhztgtyzqxyzewngy2nmuyxkeyxkfqcgdeqxvynzq5mzy0njm@._v1_uy268_cr2,0,182,268_al_.jpg\n",
      "\n",
      "Errors: 0\n",
      "\n",
      "Completed Image ====> 1. latest?cb=20150223191205.jpg\n",
      "\n",
      "Errors: 0\n",
      "\n",
      "Completed Image ====> 1. congener_levels.jpg\n",
      "\n",
      "Errors: 0\n",
      "\n",
      "Completed Image ====> 1. whole-clipart-1.jpg\n",
      "\n",
      "Errors: 0\n",
      "\n",
      "Completed Image ====> 1. starfishnoaa.jpg\n",
      "\n",
      "Errors: 0\n",
      "\n",
      "Vocabulary size: 8\n"
     ]
    }
   ],
   "source": [
    "resnet = ResNet50(weights='imagenet', \n",
    "                  include_top=False, \n",
    "                  pooling='avg')\n",
    "embeddings = KeyedVectors(2048)\n",
    "for word in nouns:\n",
    "    response = google_images_download.googleimagesdownload()\n",
    "    path = response.download({'keywords': word, 'limit': 1})[word][0]\n",
    "    img = cv2.imread(path)\n",
    "    img = scipy.misc.imresize(img, 224.0 / img.shape[0])\n",
    "    img = img.reshape((1,) + img.shape)\n",
    "    embeddings[word] = resnet.predict(img)[0]\n",
    "    \n",
    "print 'Vocabulary size:', len(embeddings.vocab)"
   ]
  },
  {
   "cell_type": "code",
   "execution_count": 16,
   "metadata": {},
   "outputs": [
    {
     "name": "stdout",
     "output_type": "stream",
     "text": [
      "# labels: 8 # vectors: 8\n"
     ]
    }
   ],
   "source": [
    "labels, vectors = zip(*map(lambda v: (v, embeddings[v]), embeddings.vocab))\n",
    "print '# labels:', len(labels), '# vectors:', len(vectors)"
   ]
  },
  {
   "cell_type": "code",
   "execution_count": 21,
   "metadata": {},
   "outputs": [
    {
     "name": "stdout",
     "output_type": "stream",
     "text": [
      "[t-SNE] Computing 7 nearest neighbors...\n",
      "[t-SNE] Indexed 8 samples in 0.000s...\n",
      "[t-SNE] Computed neighbors for 8 samples in 0.001s...\n",
      "[t-SNE] Computed conditional probabilities for sample 8 / 8\n",
      "[t-SNE] Mean sigma: 0.209599\n",
      "[t-SNE] KL divergence after 250 iterations with early exaggeration: 60.322514\n",
      "[t-SNE] Error after 850 iterations: 0.130330\n"
     ]
    }
   ],
   "source": [
    "tsne = TSNE(n_components=2, n_iter=1000, perplexity=3, metric='cosine', verbose=1)\n",
    "transformed = tsne.fit_transform(vectors)"
   ]
  },
  {
   "cell_type": "code",
   "execution_count": 26,
   "metadata": {},
   "outputs": [
    {
     "data": {
      "image/png": "[encoded data removed]",
      "text/plain": [
       "<matplotlib.figure.Figure at 0x139dfb890>"
      ]
     },
     "metadata": {},
     "output_type": "display_data"
    }
   ],
   "source": [
    "x = transformed[:,0]\n",
    "y = transformed[:,1]\n",
    "\n",
    "plt.figure(figsize=(10, 10)) \n",
    "for i in range(len(x)):\n",
    "    plt.scatter(x[i],y[i])\n",
    "    plt.annotate(labels[i],\n",
    "                 xy=(x[i], y[i]),\n",
    "                 xytext=(5, 2),\n",
    "                 textcoords='offset points',\n",
    "                 ha='right',\n",
    "                 va='bottom')\n",
    "plt.show()"
   ]
  },
  {
   "cell_type": "markdown",
   "metadata": {},
   "source": [
    "# Translate"
   ]
  },
  {
   "cell_type": "code",
   "execution_count": 32,
   "metadata": {
    "collapsed": true
   },
   "outputs": [],
   "source": [
    "def translate(word):\n",
    "    response = google_images_download.googleimagesdownload()\n",
    "    path = response.download({'keywords': word, 'limit': 1})[word][0]\n",
    "    img = cv2.imread(path)\n",
    "    img = scipy.misc.imresize(img, 224.0 / img.shape[0])\n",
    "    vector = resnet.predict(img.reshape((1,) + img.shape))[0]\n",
    "    return embeddings.most_similar([vector])[0][0]"
   ]
  },
  {
   "cell_type": "code",
   "execution_count": 34,
   "metadata": {},
   "outputs": [
    {
     "name": "stdout",
     "output_type": "stream",
     "text": [
      "Completed Image ====> 1. ristorante-a-mano.jpg\n",
      "\n",
      "Errors: 0\n",
      "\n"
     ]
    }
   ],
   "source": [
    "translated = translate('ristorante')"
   ]
  },
  {
   "cell_type": "code",
   "execution_count": 35,
   "metadata": {},
   "outputs": [
    {
     "name": "stdout",
     "output_type": "stream",
     "text": [
      "entity\n"
     ]
    }
   ],
   "source": [
    "print translated"
   ]
  }
 ],
 "metadata": {
  "kernelspec": {
   "display_name": "Python (hiredscore)",
   "language": "python",
   "name": "hiredscore"
  },
  "language_info": {
   "codemirror_mode": {
    "name": "ipython",
    "version": 2
   },
   "file_extension": ".py",
   "mimetype": "text/x-python",
   "name": "python",
   "nbconvert_exporter": "python",
   "pygments_lexer": "ipython2",
   "version": "2.7.13"
  }
 },
 "nbformat": 4,
 "nbformat_minor": 2
}
